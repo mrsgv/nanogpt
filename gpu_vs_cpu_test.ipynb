{
 "cells": [
  {
   "cell_type": "code",
   "execution_count": 5,
   "id": "12c054cb-3522-499f-aad7-3e2521a495bd",
   "metadata": {},
   "outputs": [
    {
     "name": "stdout",
     "output_type": "stream",
     "text": [
      "Using MPS (Metal Performance Shaders) for GPU acceleration\n",
      "CPU time: 0.8511 seconds\n",
      "MPS GPU time: 0.0002 seconds\n",
      "Speedup: 4451.00x\n"
     ]
    }
   ],
   "source": [
    "import torch\n",
    "import time\n",
    "\n",
    "# Function to perform matrix multiplication and measure time\n",
    "def benchmark(device, size=10000):\n",
    "    # Create random tensors\n",
    "    A = torch.randn(size, size, device=device)\n",
    "    B = torch.randn(size, size, device=device)\n",
    "    \n",
    "    # Measure time\n",
    "    start_time = time.time()\n",
    "    C = torch.matmul(A, B)\n",
    "    torch.cuda.synchronize() if device == \"cuda\" else None  # Synchronize for accurate timing on CUDA (not used here, just for reference)\n",
    "    end_time = time.time()\n",
    "    \n",
    "    return end_time - start_time\n",
    "\n",
    "# Check if MPS (Metal Performance Shaders) is available\n",
    "if torch.backends.mps.is_available():\n",
    "    mps_device = torch.device(\"mps\")\n",
    "    print(\"Using MPS (Metal Performance Shaders) for GPU acceleration\")\n",
    "else:\n",
    "    mps_device = torch.device(\"cpu\")\n",
    "    print(\"MPS not available, using CPU\")\n",
    "\n",
    "# Set CPU device\n",
    "cpu_device = torch.device(\"cpu\")\n",
    "\n",
    "# Run benchmark on CPU\n",
    "cpu_time = benchmark(cpu_device)\n",
    "print(f\"CPU time: {cpu_time:.4f} seconds\")\n",
    "\n",
    "# Run benchmark on MPS (GPU)\n",
    "if torch.backends.mps.is_available():\n",
    "    mps_time = benchmark(mps_device)\n",
    "    print(f\"MPS GPU time: {mps_time:.4f} seconds\")\n",
    "else:\n",
    "    mps_time = None\n",
    "    print(\"MPS not available\")\n",
    "\n",
    "# Calculate speedup\n",
    "if mps_time:\n",
    "    speedup = cpu_time / mps_time\n",
    "    print(f\"Speedup: {speedup:.2f}x\")"
   ]
  }
 ],
 "metadata": {
  "kernelspec": {
   "display_name": "Python 3 (ipykernel)",
   "language": "python",
   "name": "python3"
  },
  "language_info": {
   "codemirror_mode": {
    "name": "ipython",
    "version": 3
   },
   "file_extension": ".py",
   "mimetype": "text/x-python",
   "name": "python",
   "nbconvert_exporter": "python",
   "pygments_lexer": "ipython3",
   "version": "3.10.14"
  }
 },
 "nbformat": 4,
 "nbformat_minor": 5
}
